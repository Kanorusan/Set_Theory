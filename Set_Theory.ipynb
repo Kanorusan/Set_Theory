{
 "cells": [
  {
   "cell_type": "markdown",
   "metadata": {},
   "source": [
    "# 1.) PROVING IDENTITIES"
   ]
  },
  {
   "cell_type": "markdown",
   "metadata": {},
   "source": [
    "1.) $A$ \\ $B$ = $A \\cap B^\\complement$ \\\n",
    "If $X \\in A$ \\ $B$, then $X \\notin B$ \\\n",
    "If $X \\notin B$, then $X \\in B^\\complement$ \\\n",
    "If $X \\in B^\\complement$, then $X \\in A \\land X \\in B^\\complement$ \\\n",
    "If $X \\in A \\land X \\in B^\\complement$, then $X \\in A \\cap B^\\complement$ \\\n",
    "Therefore, $A$ \\ $B$ = $A \\cap B^\\complement$"
   ]
  },
  {
   "cell_type": "markdown",
   "metadata": {},
   "source": [
    "2.) $B$ = $(B \\cap A) \\cup (B \\cap A^\\complement)$ \\\n",
    "If $X \\in B$, then $X \\in (B \\cap A) \\lor X \\in (B \\cap A^\\complement)$ \\\n",
    "If $X \\in (B \\cap A) \\lor X \\in (B \\cap A^\\complement)$, then $X \\in (B \\cap A) \\cup (B \\cap A^\\complement)$ \\\n",
    "Therefore $B \\subseteq (B \\cap A) \\cup (B \\cap A^\\complement)$\n",
    "\n",
    "Now if $X \\in (B \\cap A) \\cup (B \\cap A^\\complement)$, then $X \\in (B \\cap A) \\lor X \\in (B \\cap A^\\complement)$ \\\n",
    "In either case, $X \\in B$  \\\n",
    "Therefore $(B \\cap A) \\cup (B \\cap A^\\complement) \\subseteq B$\n",
    "\n",
    "Since $B \\subseteq (B \\cap A) \\cup (B \\cap A^\\complement)$ and $(B \\cap A) \\cup (B \\cap A^\\complement) \\subseteq B$, it follows $B$ = $(B \\cap A) \\cup (B \\cap A^\\complement)$"
   ]
  },
  {
   "cell_type": "markdown",
   "metadata": {},
   "source": [
    "3.) $B$ \\ $A$ = $B \\cap A^\\complement$ \\\n",
    "If $X \\in B$ \\ $A$, then $X \\notin A$ \\\n",
    "If $X \\notin A$, then $X \\in A^\\complement$ \\\n",
    "If $X \\in A^\\complement$, then $X \\in B \\land X \\in A^\\complement$ \\\n",
    "If $X \\in B \\land X \\in A^\\complement$, then $X \\in B \\cap A^\\complement$ \\\n",
    "Therefore, $B$ \\ $A$ = $B \\cap A^\\complement$"
   ]
  },
  {
   "cell_type": "markdown",
   "metadata": {},
   "source": [
    "4.) $A \\cup B$ = $A \\cup (B \\cap A^\\complement)$ \\\n",
    "If $X \\in A \\cup B$, then $X \\in A \\lor X \\in B$ \\\n",
    "If $X \\in A$, then $X \\in A \\cup (B \\cap A^\\complement)$ \\\n",
    "If $X \\in B$, then either $X \\in A \\lor X \\notin A$ \\\n",
    "If $X \\notin A$, then $X \\in B \\cap A^\\complement$ and thus $X \\in A \\cup (B \\cap A^\\complement)$\n",
    "\n",
    "Now if $X \\in A \\cup (B \\cap A^\\complement)$, then $X \\in A \\lor X \\in (B \\cap A^\\complement)$ \\\n",
    "If $X \\in A$, then $X \\in A \\cup B$ \\\n",
    " If $X \\in B \\cap A^\\complement$, then $X \\in B$ and thus $X \\in A \\cup B$ \\\n",
    "Therefore, in all cases, $X \\in A \\cup B$ \\\n",
    "Thus $A \\cup (B \\cap A^\\complement) \\subseteq A \\cup B$\n",
    "\n",
    "Since $A \\cup B \\subseteq A \\cup (B \\cap A^\\complement)$ and $A \\cup (B \\cap A^\\complement) \\subseteq A \\cup B$, then $A \\cup B = A \\cup (B \\cap A^\\complement)$"
   ]
  },
  {
   "cell_type": "markdown",
   "metadata": {},
   "source": [
    "5.) $(\\cup_{i=1}^\\infty A_i^\\complement)^\\complement$ = $\\cap_i^\\infty A_i^\\complement$ \\\n",
    "\n",
    "Left side: \\\n",
    "Assume $x \\in (\\cup_{i=1}^\\infty A_i^\\complement)^\\complement$.  $i$, $x \\notin A_i^\\complement$.\n",
    "Then $\\cap_{i=1}^\\infty A_i^\\complement$.\n",
    "\n",
    "Then $y \\in \\cap_{i=1}^\\infty A_i^\\complement$. \n",
    "\n",
    "Then, $y \\notin A_i$.\n",
    "\n",
    "Then $y \\notin \\cup_{i=1}^\\infty A_i$. \n",
    "\n",
    "Then $(\\cup_{i=1}^\\infty A_i^\\complement)^\\complement$.\n",
    "\n",
    "Therefore $(\\cup_{i=1}^\\infty A_i^\\complement)^\\complement$ = $\\cap_i^\\infty A_i^\\complement$\n"
   ]
  },
  {
   "cell_type": "markdown",
   "metadata": {},
   "source": [
    "6.) |$A \\cup B$| = |$A$| + |$B$| - |$A \\cap B$| \\\n",
    " For any two sets $A$ and $B$:\n",
    "$\n",
    "|A \\cup B| = |A| + |B| - |A \\cap B|\n",
    "$\n",
    "\n",
    "Let $|X|$ denote the cardinality of set $X$.\n",
    "\n",
    "Consider sets $A$ and $B$.\n",
    "If $|A|$ denotes the cardinality of set $A$, and if $|B|$ denotes the cardinality of set $B$,\n",
    "\n",
    "$\n",
    "Then |A \\cup B| = |A| + |B|\n",
    "$\n",
    "\n",
    "$\n",
    "Then |A \\cup B| = |A| + |B| - |A \\cap B|\n",
    "$\n",
    "\n",
    "If we take the union of sets $A$ and $B$, denoted by $A \\cup B$, then the size of this union is equal to the sum of the sizes of $A$ and $B$, minus the size of their intersection, $A \\cap B$.\n"
   ]
  },
  {
   "cell_type": "markdown",
   "metadata": {},
   "source": [
    "# 2.) SETS AND SUBSETS"
   ]
  },
  {
   "cell_type": "markdown",
   "metadata": {},
   "source": [
    "If $A = {\\{2,3,4,5}\\},$ and $B = {\\{x}\\in\\N|{x} \\ is \\ even\\}$ \\\n",
    "Is $A \\subset B$?\n",
    "\n",
    "$2 \\in B$ since 2 is even \\\n",
    "$4 \\in B$ since 4 is even \\\n",
    "However, since 3 and 5 are odd \\\n",
    "$3 \\notin B$ and $5 \\notin B$ \\\n",
    "Hence, $A \\not\\subset B$"
   ]
  },
  {
   "cell_type": "markdown",
   "metadata": {},
   "source": [
    "# 3.) SET OPERATIONS "
   ]
  },
  {
   "cell_type": "markdown",
   "metadata": {},
   "source": [
    "**Latex Solution**\n",
    "\n",
    "U = {1,2,3,4,5} \\\n",
    "A = {1,2,3,4,5} \\\n",
    "B = {4,5,6,7} \\\n",
    "C = {5,6,7,8,9} \\\n",
    "D = {1,3,5,7,9} \\\n",
    "E = {2,4,6,8} \\\n",
    "F = {1,5,6}\n",
    "\n",
    "Symmetric Difference of C and D \\\n",
    "$C \\oplus D = \\{5,6,7,8,9\\}$ \\ $\\{1,3,5,7,9\\} = \\{1,3,6,8\\}$\n",
    "\n",
    "Set Difference of A and B \\\n",
    "$A - B = \\{1,2,3,4,5\\} - \\{4,5,6,7\\} = \\{1,2,3\\}$\n",
    "\n",
    "Set Difference of B and A \\\n",
    "$B - A = \\{4,5,6,7\\} - \\{1,2,3,4,5\\} = \\{6,7\\}$\n",
    "\n",
    "Symmetric Difference of E and F \\\n",
    "$E \\oplus F = \\{2,4,6,8\\}$ \\ $\\{1,5,6\\} = \\{1,2,4,5,8\\}$"
   ]
  },
  {
   "cell_type": "code",
   "execution_count": 4,
   "metadata": {},
   "outputs": [
    {
     "name": "stdout",
     "output_type": "stream",
     "text": [
      "Symmetric Difference of C and D:  {1, 3, 6, 8}\n",
      "Set Difference of A and B:  {1, 2, 3}\n",
      "Set Difference of B and A:  {6, 7}\n",
      "Symmetric Difference of E and F:  {1, 2, 4, 5, 8}\n"
     ]
    }
   ],
   "source": [
    "\n",
    "\n",
    "\n",
    "U = {1,2,3,4,5}\n",
    "A = {1,2,3,4,5}\n",
    "B = {4,5,6,7,}\n",
    "C = {5,6,7,8,9}\n",
    "D = {1,3,5,7,9}\n",
    "E = {2,4,6,8}\n",
    "F = {1,5,6}\n",
    "\n",
    "\n",
    "C_symmetric_D = C ^ D\n",
    "A_difference_B = A - B\n",
    "B_difference_A = B - A\n",
    "E_symmetric_F = E ^ F\n",
    "\n",
    "print('Symmetric Difference of C and D: ', C_symmetric_D)\n",
    "print('Set Difference of A and B: ', A_difference_B)\n",
    "print('Set Difference of B and A: ', B_difference_A)\n",
    "print('Symmetric Difference of E and F: ', E_symmetric_F)"
   ]
  },
  {
   "cell_type": "markdown",
   "metadata": {},
   "source": [
    "## 4.) Finite Sets and The Counting Principles"
   ]
  },
  {
   "cell_type": "code",
   "execution_count": 10,
   "metadata": {},
   "outputs": [
    {
     "data": {
      "image/png": "[encoded data removed]",
      "text/plain": [
       "<Figure size 640x480 with 1 Axes>"
      ]
     },
     "metadata": {},
     "output_type": "display_data"
    },
    {
     "name": "stdout",
     "output_type": "stream",
     "text": [
      "Number of people who read at least one magazine: 100\n",
      "Number of people who read exactly one magazine: 8\n"
     ]
    }
   ],
   "source": [
    "from matplotlib import pyplot as plt\n",
    "from matplotlib_venn import venn3\n",
    "\n",
    "\n",
    "total_people = 120\n",
    "newsweek_readers = 65\n",
    "time_readers = 45\n",
    "fortune_readers = 42\n",
    "newsweek_time_readers = 20\n",
    "newsweek_fortune_readers = 25\n",
    "time_fortune_readers = 15\n",
    "all_three_readers = 8\n",
    "\n",
    "\n",
    "venn3(subsets=(newsweek_readers, time_readers, newsweek_time_readers, fortune_readers, \n",
    "               newsweek_fortune_readers, time_fortune_readers, all_three_readers),\n",
    "                set_labels=('Newsweek', 'Time', 'Fortune'))\n",
    "plt.title(\"Magazine Readers Venn Diagram\")\n",
    "plt.show()\n",
    "\n",
    "\n",
    "at_least_one_reader = newsweek_readers + time_readers + fortune_readers - \\\n",
    "                      newsweek_time_readers - newsweek_fortune_readers - \\\n",
    "                      time_fortune_readers + all_three_readers\n",
    "\n",
    "\n",
    "exactly_one_reader = ((newsweek_readers - newsweek_time_readers - newsweek_fortune_readers - all_three_readers) + \\\n",
    "                    (time_readers - time_fortune_readers - newsweek_time_readers - all_three_readers) + \\\n",
    "                    (fortune_readers - time_fortune_readers - newsweek_fortune_readers - all_three_readers))\n",
    "\n",
    "print(\"Number of people who read at least one magazine:\", at_least_one_reader)\n",
    "print(\"Number of people who read exactly one magazine:\", exactly_one_reader)"
   ]
  },
  {
   "cell_type": "code",
   "execution_count": 9,
   "metadata": {},
   "outputs": [
    {
     "data": {
      "image/png": "[encoded data removed]",
      "text/plain": [
       "<Figure size 640x480 with 1 Axes>"
      ]
     },
     "metadata": {},
     "output_type": "display_data"
    },
    {
     "name": "stdout",
     "output_type": "stream",
     "text": [
      "Number of cars with only Air Conditioners 4\n",
      "Number of cars with only Radio 2\n",
      "Number of cars with only Power Windows 5\n",
      "Number of cars with both a radio and power window but no air conditioner 1\n",
      "Number of cars with both an air condition and radio but no power window 6\n",
      "Number of cars with only one of the options 11\n",
      "Number of cars with at least one of the options 23\n",
      "Number of cars with none of the options 2\n"
     ]
    }
   ],
   "source": [
    "from matplotlib_venn import venn3, venn3_circles\n",
    "import matplotlib.pyplot as plt\n",
    "\n",
    "# Given Data\n",
    "total_cars = 25\n",
    "Aircon = 15\n",
    "Radio = 12\n",
    "Power_Windows = 11\n",
    "Aircon_Power_Windows = 5\n",
    "Aircon_Radio = 9\n",
    "Radio_Power_Windows = 4\n",
    "Aircon_Radio_Power_Windows = 3\n",
    "\n",
    "\n",
    "A_only = Aircon - Aircon_Power_Windows - Aircon_Radio + Aircon_Radio_Power_Windows\n",
    "\n",
    "\n",
    "R_only = Radio - Aircon_Radio - Radio_Power_Windows + Aircon_Radio_Power_Windows\n",
    "\n",
    "\n",
    "W_only = Power_Windows - Aircon_Power_Windows - Radio_Power_Windows + Aircon_Radio_Power_Windows\n",
    "\n",
    "\n",
    "R_W_only = Radio_Power_Windows - Aircon_Radio_Power_Windows\n",
    "\n",
    "\n",
    "A_R_only = Aircon_Radio - Aircon_Radio_Power_Windows\n",
    "\n",
    "\n",
    "A_W_only = Aircon_Power_Windows - Aircon_Radio_Power_Windows\n",
    "\n",
    "\n",
    "one_of_the_options = A_only + R_only + W_only\n",
    "\n",
    "\n",
    "at_least_one = Aircon + Radio + Power_Windows - Aircon_Power_Windows - Aircon_Radio - Radio_Power_Windows + Aircon_Radio_Power_Windows\n",
    "\n",
    "\n",
    "none_of_options = total_cars - at_least_one\n",
    "\n",
    "\n",
    "venn3(subsets=(A_only, R_only, A_R_only, W_only, A_W_only, R_W_only, Aircon_Radio_Power_Windows),set_labels=('Air Conditioner', 'Radio', 'Power Windows'))\n",
    "plt.title(\"Popular Car Options\")\n",
    "plt.show()\n",
    "\n",
    "print(\"Number of cars with only Air Conditioners\", A_only)\n",
    "print(\"Number of cars with only Radio\", R_only)\n",
    "print(\"Number of cars with only Power Windows\", W_only)\n",
    "print(\"Number of cars with both a radio and power window but no air conditioner\", R_W_only)\n",
    "print(\"Number of cars with both an air condition and radio but no power window\", A_R_only)\n",
    "print(\"Number of cars with only one of the options\", one_of_the_options)\n",
    "print(\"Number of cars with at least one of the options\", at_least_one)\n",
    "print(\"Number of cars with none of the options\", none_of_options)"
   ]
  },
  {
   "cell_type": "code",
   "execution_count": null,
   "metadata": {},
   "outputs": [],
   "source": []
  }
 ],
 "metadata": {
  "kernelspec": {
   "display_name": "Python 3 (ipykernel)",
   "language": "python",
   "name": "python3"
  },
  "language_info": {
   "codemirror_mode": {
    "name": "ipython",
    "version": 3
   },
   "file_extension": ".py",
   "mimetype": "text/x-python",
   "name": "python",
   "nbconvert_exporter": "python",
   "pygments_lexer": "ipython3",
   "version": "3.11.4"
  }
 },
 "nbformat": 4,
 "nbformat_minor": 2
}
